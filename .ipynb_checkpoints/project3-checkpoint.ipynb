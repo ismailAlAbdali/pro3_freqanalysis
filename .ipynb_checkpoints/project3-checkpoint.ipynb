{
 "cells": [
  {
   "cell_type": "code",
   "execution_count": 1,
   "id": "a6f60d85",
   "metadata": {},
   "outputs": [],
   "source": [
    "import numpy as np\n",
    "import pandas as pd\n",
    "import matplotlib.pyplot as plt"
   ]
  },
  {
   "cell_type": "markdown",
   "id": "42853653",
   "metadata": {},
   "source": [
    "## get the text files "
   ]
  },
  {
   "cell_type": "code",
   "execution_count": 2,
   "id": "8e6952f1",
   "metadata": {},
   "outputs": [],
   "source": [
    "with open(\"./Cryptanalysis/ciphertext.txt\",'r') as file:\n",
    "    cipher_text = file.read()\n",
    "with open(\"./Cryptanalysis/hamlet.txt\", 'r') as file:\n",
    "    hamlet_text = file.read() \n",
    "with open(\"./Cryptanalysis/merchantofvenice.txt\",encoding = 'utf8') as file:\n",
    "    merchant_text = file.read()"
   ]
  },
  {
   "cell_type": "code",
   "execution_count": 3,
   "id": "84fd5ad8",
   "metadata": {},
   "outputs": [
    {
     "data": {
      "text/plain": [
       "\"bt jpx rmlx pcuv amlx icvjp ibtwxvr ci m lmt'r pmtn, mtn yvcjx cdxv mwmbtrj jpx amtngxrjbah uqct jpx qgmrjxv ci jpx ymgg ci jpx hbtw'r qmgmax; mtn jpx hbtw rmy jpx qmvj ci jpx pmtn jpmj yvcjx. jpxt jpx hbtw'r acutjxtmtax ymr apmtwxn, mtn pbr jpcuwpjr jvcufgxn pbl, rc jpmj jpx scbtjr ci pbr gcbtr yxvx gccrxn, mtn pbr htxxr rlcjx ctx mwmbtrj mtcjpxv. jpx hbtw avbxn mgcun jc fvbtw bt jpx mrjvcgcwxvr, jpx apmgnxmtr, mtn jpx rccjprmexvr. mtn jpx hbtw rqmhx, mtn rmbn jc jpx ybrx lxt ci fmfegct, ypcrcxdxv rpmgg vxmn jpbr yvbjbtw, mtn rpcy lx jpx btjxvqvxjmjbct jpxvxci, rpmgg fx agcjpxn ybjp ramvgxj, mtn pmdx m apmbt ci wcgn mfcuj pbr txah, mtn rpmgg fx jpx jpbvn vugxv bt jpx hbtwncl. jpxt amlx bt mgg jpx hbtw'r ybrx lxt; fuj jpxe acugn tcj vxmn jpx yvbjbtw, tcv lmhx htcyt jc jpx hbtw jpx btjxvqvxjmjbct jpxvxci. jpxt ymr hbtw fxgrpmoomv wvxmjge jvcufgxn, mtn pbr acutjxtmtax ymr apmtwxn bt pbl, mtn pbr gcvnr yxvx mrjctbrpxn. tcy jpx kuxxt, fe vxmrct ci jpx ycvnr ci jpx hbtw mtn pbr gcvnr, amlx btjc jpx fmtkuxj pcurx; mtn jpx kuxxt rqmhx mtn rmbn, c hbtw, gbdx icvxdxv; gxj tcj jpe jpcuwpjr jvcufgx jpxx, tcv gxj jpe acutjxtmtax fx apmtwxn; jpxvx br m lmt bt jpe hbtwncl, bt ypcl br jpx rqbvbj ci jpx pcge wcnr; mtn bt jpx nmer ci jpe ybrncl ci jpx wcnr, ymr icutn bt pbl; ypcl jpx hbtw txfuapmntxoomv jpe imjpxv, jpx hbtw, b rme, jpe imjpxv, lmnx lmrjxv ci jpx lmwbabmtr, mrjvcgcwxvr, apmgnxmtr, mtn rccjprmexvr; icvmrluap mr mt xzaxggxtj rqbvbj, mtn htcygxnwx, mtn utnxvrjmtnbtw, btjxvqvxjbtw ci nvxmlr, mtn rpcybtw ci pmvn rxtjxtaxr, mtn nbrrcgdbtw ci ncufjr, yxvx icutn bt jpx rmlx nmtbxg, ypcl jpx hbtw tmlxn fxgjxrpmoomv; tcy gxj nmtbxg fx amggxn, mtn px ybgg rpcy jpx btjxvqvxjmjbct.\""
      ]
     },
     "execution_count": 3,
     "metadata": {},
     "output_type": "execute_result"
    }
   ],
   "source": [
    "cipher_text"
   ]
  },
  {
   "cell_type": "markdown",
   "id": "83e1c367",
   "metadata": {},
   "source": [
    "# define function for to get letters, bigrams , trigrams"
   ]
  },
  {
   "cell_type": "code",
   "execution_count": 4,
   "id": "f7f99305",
   "metadata": {},
   "outputs": [],
   "source": [
    "def splitting_points_of_strings(string,n = 2):\n",
    "    out = []\n",
    "    for i in range(0, len(string), n):\n",
    "        if check_alpha_string(string[i:i+n]):\n",
    "#             if n > 1:\n",
    "#                 if string[i-1] == \" \" and string[i+n+1] == \" \" or i == 0 and string[i+n+1] == \" \":\n",
    "#                     out.append(string[i:i+n])\n",
    "#             if n == 1:\n",
    "            out.append(string[i:i+n])\n",
    "        \n",
    "    return out"
   ]
  },
  {
   "cell_type": "code",
   "execution_count": 5,
   "id": "7b6c0c26",
   "metadata": {},
   "outputs": [],
   "source": [
    "# checks if a string is all alphabatical\n",
    "def check_alpha_string(string):\n",
    "    for i in string:\n",
    "        if not i.isalpha():\n",
    "            return False\n",
    "    return True\n",
    "    "
   ]
  },
  {
   "cell_type": "code",
   "execution_count": 6,
   "id": "14fd84b1",
   "metadata": {},
   "outputs": [],
   "source": [
    "def get_dict_occur_num(letters_set,text):\n",
    "    dict_of_occur = {}\n",
    "    for i in range(len(letters_set)):\n",
    "#         if letters_set[i] in dict_of_occur:\n",
    "        dict_of_occur[letters_set[i]] = text.count(letters_set[i])\n",
    "    return dict_of_occur"
   ]
  },
  {
   "cell_type": "code",
   "execution_count": 7,
   "id": "ef3e7628",
   "metadata": {},
   "outputs": [],
   "source": [
    "def find_one_two_three_letters_occur(text,l = 1,k = 3):\n",
    "    \"\"\"\n",
    "    function will return a list of dicts of one , two, three, letters occurenece\n",
    "    \"\"\"\n",
    "    text_copy = text.lower()\n",
    "    dict_list = []\n",
    "    for i in range(l,k+1,1):\n",
    "        get_letter_sets = np.unique(splitting_points_of_strings(text_copy, n = i))\n",
    "        dict_list.append(get_dict_occur_num(get_letter_sets,text_copy))\n",
    "        \n",
    "    return dict_list"
   ]
  },
  {
   "cell_type": "code",
   "execution_count": 8,
   "id": "73426340",
   "metadata": {},
   "outputs": [],
   "source": [
    "def find_one_two_three_letters_occur(text,l = 1,k = 3):\n",
    "    \"\"\"\n",
    "    function will return a list of dicts of one , two, three, letters occurenece\n",
    "    \"\"\"\n",
    "    text_copy = text.lower()\n",
    "    dict_list = []\n",
    "    for i in range(l,k+1,1):\n",
    "        get_letter_sets = np.unique(splitting_points_of_strings(text_copy, n = i))\n",
    "        dict_list.append(get_dict_occur_num(get_letter_sets,text_copy))\n",
    "        # returns a list of dicts of [letters, bigrams ,trigrams] \n",
    "    return dict_list"
   ]
  },
  {
   "cell_type": "code",
   "execution_count": 9,
   "id": "9214b8c6",
   "metadata": {},
   "outputs": [],
   "source": [
    "ciper_dict = find_one_two_three_letters_occur(cipher_text)\n",
    "hamlet_dicts = find_one_two_three_letters_occur(hamlet_text)\n",
    "merchant_dicts = find_one_two_three_letters_occur(merchant_text)"
   ]
  },
  {
   "cell_type": "markdown",
   "id": "77367db9",
   "metadata": {},
   "source": [
    "# clean up some of the data"
   ]
  },
  {
   "cell_type": "code",
   "execution_count": 22,
   "id": "fc3eb8f2",
   "metadata": {
    "collapsed": true
   },
   "outputs": [
    {
     "ename": "KeyError",
     "evalue": "'â'",
     "output_type": "error",
     "traceback": [
      "\u001b[1;31m---------------------------------------------------------------------------\u001b[0m",
      "\u001b[1;31mKeyError\u001b[0m                                  Traceback (most recent call last)",
      "Input \u001b[1;32mIn [22]\u001b[0m, in \u001b[0;36m<cell line: 1>\u001b[1;34m()\u001b[0m\n\u001b[1;32m----> 1\u001b[0m \u001b[43mhamlet_dicts\u001b[49m\u001b[43m[\u001b[49m\u001b[38;5;241;43m0\u001b[39;49m\u001b[43m]\u001b[49m\u001b[38;5;241;43m.\u001b[39;49m\u001b[43mpop\u001b[49m\u001b[43m(\u001b[49m\u001b[38;5;124;43m'\u001b[39;49m\u001b[38;5;124;43mâ\u001b[39;49m\u001b[38;5;124;43m'\u001b[39;49m\u001b[43m)\u001b[49m\n\u001b[0;32m      2\u001b[0m hamlet_dicts[\u001b[38;5;241m0\u001b[39m]\u001b[38;5;241m.\u001b[39mpop(\u001b[38;5;124m'\u001b[39m\u001b[38;5;124mã\u001b[39m\u001b[38;5;124m'\u001b[39m)\n",
      "\u001b[1;31mKeyError\u001b[0m: 'â'"
     ]
    }
   ],
   "source": [
    "hamlet_dicts[0].pop('â')\n",
    "hamlet_dicts[0].pop('ã')"
   ]
  },
  {
   "cell_type": "code",
   "execution_count": 23,
   "id": "ea4e0319",
   "metadata": {},
   "outputs": [
    {
     "ename": "KeyError",
     "evalue": "'æ'",
     "output_type": "error",
     "traceback": [
      "\u001b[1;31m---------------------------------------------------------------------------\u001b[0m",
      "\u001b[1;31mKeyError\u001b[0m                                  Traceback (most recent call last)",
      "Input \u001b[1;32mIn [23]\u001b[0m, in \u001b[0;36m<cell line: 1>\u001b[1;34m()\u001b[0m\n\u001b[1;32m----> 1\u001b[0m \u001b[43mmerchant_dicts\u001b[49m\u001b[43m[\u001b[49m\u001b[38;5;241;43m0\u001b[39;49m\u001b[43m]\u001b[49m\u001b[38;5;241;43m.\u001b[39;49m\u001b[43mpop\u001b[49m\u001b[43m(\u001b[49m\u001b[38;5;124;43m'\u001b[39;49m\u001b[38;5;124;43mæ\u001b[39;49m\u001b[38;5;124;43m'\u001b[39;49m\u001b[43m)\u001b[49m\n\u001b[0;32m      2\u001b[0m merchant_dicts[\u001b[38;5;241m0\u001b[39m]\u001b[38;5;241m.\u001b[39mpop(\u001b[38;5;124m'\u001b[39m\u001b[38;5;124mœ\u001b[39m\u001b[38;5;124m'\u001b[39m)\n",
      "\u001b[1;31mKeyError\u001b[0m: 'æ'"
     ]
    }
   ],
   "source": [
    "merchant_dicts[0].pop('æ')\n",
    "merchant_dicts[0].pop('œ')"
   ]
  },
  {
   "cell_type": "markdown",
   "id": "0180107e",
   "metadata": {},
   "source": [
    "## chart the data to see some patterns"
   ]
  },
  {
   "cell_type": "code",
   "execution_count": 24,
   "id": "6a5f3421",
   "metadata": {
    "scrolled": true
   },
   "outputs": [
    {
     "data": {
      "image/png": "[encoded data removed]",
      "text/plain": [
       "<Figure size 432x288 with 1 Axes>"
      ]
     },
     "metadata": {
      "needs_background": "light"
     },
     "output_type": "display_data"
    }
   ],
   "source": [
    "letter = list(hamlet_dicts[0].keys())\n",
    "values = list(hamlet_dicts[0].values())\n",
    "plt.bar(range(len(hamlet_dicts[0])),values,tick_label = letter)\n",
    "plt.show()"
   ]
  },
  {
   "cell_type": "code",
   "execution_count": 25,
   "id": "881517e4",
   "metadata": {},
   "outputs": [
    {
     "data": {
      "image/png": "[encoded data removed]",
      "text/plain": [
       "<Figure size 432x288 with 1 Axes>"
      ]
     },
     "metadata": {
      "needs_background": "light"
     },
     "output_type": "display_data"
    }
   ],
   "source": [
    "letter = list(ciper_dict[0].keys())\n",
    "values = list(ciper_dict[0].values())\n",
    "plt.bar(range(len(ciper_dict[0])),values,tick_label = letter)\n",
    "plt.show()"
   ]
  },
  {
   "cell_type": "code",
   "execution_count": 26,
   "id": "e064d38f",
   "metadata": {},
   "outputs": [
    {
     "data": {
      "image/png": "[encoded data removed]",
      "text/plain": [
       "<Figure size 432x288 with 1 Axes>"
      ]
     },
     "metadata": {
      "needs_background": "light"
     },
     "output_type": "display_data"
    }
   ],
   "source": [
    "merchant_dicts = find_one_two_three_letters_occur(merchant_text)\n",
    "letter = list(merchant_dicts[0].keys())\n",
    "values = list(merchant_dicts[0].values())\n",
    "plt.bar(range(len(merchant_dicts[0])),values,tick_label = letter)\n",
    "plt.show()"
   ]
  },
  {
   "cell_type": "markdown",
   "id": "b04e65c4",
   "metadata": {},
   "source": [
    "#### a dataFrame(table) show each letter and how many times it occurs in each text file "
   ]
  },
  {
   "cell_type": "code",
   "execution_count": 92,
   "id": "e17ac22c",
   "metadata": {},
   "outputs": [
    {
     "data": {
      "text/html": [
       "<div>\n",
       "<style scoped>\n",
       "    .dataframe tbody tr th:only-of-type {\n",
       "        vertical-align: middle;\n",
       "    }\n",
       "\n",
       "    .dataframe tbody tr th {\n",
       "        vertical-align: top;\n",
       "    }\n",
       "\n",
       "    .dataframe thead th {\n",
       "        text-align: right;\n",
       "    }\n",
       "</style>\n",
       "<table border=\"1\" class=\"dataframe\">\n",
       "  <thead>\n",
       "    <tr style=\"text-align: right;\">\n",
       "      <th></th>\n",
       "      <th>letters</th>\n",
       "      <th>mechant_text</th>\n",
       "      <th>hamlet_text</th>\n",
       "      <th>cipher_text</th>\n",
       "    </tr>\n",
       "  </thead>\n",
       "  <tbody>\n",
       "    <tr>\n",
       "      <th>0</th>\n",
       "      <td>a</td>\n",
       "      <td>7338</td>\n",
       "      <td>10288</td>\n",
       "      <td>29</td>\n",
       "    </tr>\n",
       "    <tr>\n",
       "      <th>1</th>\n",
       "      <td>b</td>\n",
       "      <td>1541</td>\n",
       "      <td>1823</td>\n",
       "      <td>83</td>\n",
       "    </tr>\n",
       "    <tr>\n",
       "      <th>2</th>\n",
       "      <td>c</td>\n",
       "      <td>2078</td>\n",
       "      <td>2798</td>\n",
       "      <td>96</td>\n",
       "    </tr>\n",
       "    <tr>\n",
       "      <th>3</th>\n",
       "      <td>d</td>\n",
       "      <td>3405</td>\n",
       "      <td>5135</td>\n",
       "      <td>6</td>\n",
       "    </tr>\n",
       "    <tr>\n",
       "      <th>4</th>\n",
       "      <td>e</td>\n",
       "      <td>10786</td>\n",
       "      <td>15673</td>\n",
       "      <td>15</td>\n",
       "    </tr>\n",
       "    <tr>\n",
       "      <th>5</th>\n",
       "      <td>f</td>\n",
       "      <td>1980</td>\n",
       "      <td>2736</td>\n",
       "      <td>18</td>\n",
       "    </tr>\n",
       "    <tr>\n",
       "      <th>6</th>\n",
       "      <td>g</td>\n",
       "      <td>1588</td>\n",
       "      <td>2427</td>\n",
       "      <td>49</td>\n",
       "    </tr>\n",
       "    <tr>\n",
       "      <th>7</th>\n",
       "      <td>h</td>\n",
       "      <td>5766</td>\n",
       "      <td>8702</td>\n",
       "      <td>23</td>\n",
       "    </tr>\n",
       "    <tr>\n",
       "      <th>8</th>\n",
       "      <td>i</td>\n",
       "      <td>6388</td>\n",
       "      <td>8885</td>\n",
       "      <td>26</td>\n",
       "    </tr>\n",
       "    <tr>\n",
       "      <th>9</th>\n",
       "      <td>j</td>\n",
       "      <td>231</td>\n",
       "      <td>111</td>\n",
       "      <td>123</td>\n",
       "    </tr>\n",
       "    <tr>\n",
       "      <th>10</th>\n",
       "      <td>k</td>\n",
       "      <td>757</td>\n",
       "      <td>1271</td>\n",
       "      <td>3</td>\n",
       "    </tr>\n",
       "    <tr>\n",
       "      <th>11</th>\n",
       "      <td>l</td>\n",
       "      <td>3930</td>\n",
       "      <td>6371</td>\n",
       "      <td>27</td>\n",
       "    </tr>\n",
       "    <tr>\n",
       "      <th>12</th>\n",
       "      <td>m</td>\n",
       "      <td>2561</td>\n",
       "      <td>4280</td>\n",
       "      <td>114</td>\n",
       "    </tr>\n",
       "    <tr>\n",
       "      <th>13</th>\n",
       "      <td>n</td>\n",
       "      <td>6146</td>\n",
       "      <td>8692</td>\n",
       "      <td>68</td>\n",
       "    </tr>\n",
       "    <tr>\n",
       "      <th>14</th>\n",
       "      <td>o</td>\n",
       "      <td>8046</td>\n",
       "      <td>11478</td>\n",
       "      <td>6</td>\n",
       "    </tr>\n",
       "    <tr>\n",
       "      <th>15</th>\n",
       "      <td>p</td>\n",
       "      <td>1256</td>\n",
       "      <td>2015</td>\n",
       "      <td>107</td>\n",
       "    </tr>\n",
       "    <tr>\n",
       "      <th>16</th>\n",
       "      <td>q</td>\n",
       "      <td>56</td>\n",
       "      <td>219</td>\n",
       "      <td>12</td>\n",
       "    </tr>\n",
       "    <tr>\n",
       "      <th>17</th>\n",
       "      <td>r</td>\n",
       "      <td>5406</td>\n",
       "      <td>7940</td>\n",
       "      <td>87</td>\n",
       "    </tr>\n",
       "    <tr>\n",
       "      <th>18</th>\n",
       "      <td>s</td>\n",
       "      <td>5972</td>\n",
       "      <td>8667</td>\n",
       "      <td>1</td>\n",
       "    </tr>\n",
       "    <tr>\n",
       "      <th>19</th>\n",
       "      <td>t</td>\n",
       "      <td>8056</td>\n",
       "      <td>12488</td>\n",
       "      <td>126</td>\n",
       "    </tr>\n",
       "    <tr>\n",
       "      <th>20</th>\n",
       "      <td>u</td>\n",
       "      <td>2934</td>\n",
       "      <td>4461</td>\n",
       "      <td>25</td>\n",
       "    </tr>\n",
       "    <tr>\n",
       "      <th>21</th>\n",
       "      <td>v</td>\n",
       "      <td>916</td>\n",
       "      <td>1232</td>\n",
       "      <td>64</td>\n",
       "    </tr>\n",
       "    <tr>\n",
       "      <th>22</th>\n",
       "      <td>w</td>\n",
       "      <td>2177</td>\n",
       "      <td>3128</td>\n",
       "      <td>38</td>\n",
       "    </tr>\n",
       "    <tr>\n",
       "      <th>23</th>\n",
       "      <td>x</td>\n",
       "      <td>109</td>\n",
       "      <td>174</td>\n",
       "      <td>161</td>\n",
       "    </tr>\n",
       "    <tr>\n",
       "      <th>24</th>\n",
       "      <td>y</td>\n",
       "      <td>2451</td>\n",
       "      <td>3210</td>\n",
       "      <td>30</td>\n",
       "    </tr>\n",
       "    <tr>\n",
       "      <th>25</th>\n",
       "      <td>z</td>\n",
       "      <td>116</td>\n",
       "      <td>125</td>\n",
       "      <td>1</td>\n",
       "    </tr>\n",
       "  </tbody>\n",
       "</table>\n",
       "</div>"
      ],
      "text/plain": [
       "   letters  mechant_text  hamlet_text  cipher_text\n",
       "0        a          7338        10288           29\n",
       "1        b          1541         1823           83\n",
       "2        c          2078         2798           96\n",
       "3        d          3405         5135            6\n",
       "4        e         10786        15673           15\n",
       "5        f          1980         2736           18\n",
       "6        g          1588         2427           49\n",
       "7        h          5766         8702           23\n",
       "8        i          6388         8885           26\n",
       "9        j           231          111          123\n",
       "10       k           757         1271            3\n",
       "11       l          3930         6371           27\n",
       "12       m          2561         4280          114\n",
       "13       n          6146         8692           68\n",
       "14       o          8046        11478            6\n",
       "15       p          1256         2015          107\n",
       "16       q            56          219           12\n",
       "17       r          5406         7940           87\n",
       "18       s          5972         8667            1\n",
       "19       t          8056        12488          126\n",
       "20       u          2934         4461           25\n",
       "21       v           916         1232           64\n",
       "22       w          2177         3128           38\n",
       "23       x           109          174          161\n",
       "24       y          2451         3210           30\n",
       "25       z           116          125            1"
      ]
     },
     "execution_count": 92,
     "metadata": {},
     "output_type": "execute_result"
    }
   ],
   "source": [
    "df_letters = pd.DataFrame()\n",
    "df_letters[\"letters\"] = list(merchant_dicts[0].keys())\n",
    "df_letters[\"mechant_text\"] = list(merchant_dicts[0].values())\n",
    "df_letters[\"hamlet_text\"] = list(hamlet_dicts[0].values())\n",
    "df_letters[\"cipher_text\"] = list(ciper_dict[0].values())\n",
    "df_letters"
   ]
  },
  {
   "cell_type": "code",
   "execution_count": 105,
   "id": "e8c80ea6",
   "metadata": {},
   "outputs": [],
   "source": [
    "ano_df = df_letters.set_index(\"letters\")"
   ]
  },
  {
   "cell_type": "code",
   "execution_count": 95,
   "id": "cc825f2f",
   "metadata": {},
   "outputs": [],
   "source": [
    "df_letter_trans = df_letters.T.copy()\n",
    "df_letter_trans.columns = df_letter_trans.iloc[0]"
   ]
  },
  {
   "cell_type": "code",
   "execution_count": 99,
   "id": "fd16080c",
   "metadata": {},
   "outputs": [],
   "source": [
    "df_letter_trans.drop(labels = \"letters\", axis = 0,inplace = True)"
   ]
  },
  {
   "cell_type": "code",
   "execution_count": 101,
   "id": "faf8967b",
   "metadata": {},
   "outputs": [
    {
     "data": {
      "text/html": [
       "<div>\n",
       "<style scoped>\n",
       "    .dataframe tbody tr th:only-of-type {\n",
       "        vertical-align: middle;\n",
       "    }\n",
       "\n",
       "    .dataframe tbody tr th {\n",
       "        vertical-align: top;\n",
       "    }\n",
       "\n",
       "    .dataframe thead th {\n",
       "        text-align: right;\n",
       "    }\n",
       "</style>\n",
       "<table border=\"1\" class=\"dataframe\">\n",
       "  <thead>\n",
       "    <tr style=\"text-align: right;\">\n",
       "      <th></th>\n",
       "      <th>mechant_text</th>\n",
       "      <th>hamlet_text</th>\n",
       "      <th>cipher_text</th>\n",
       "    </tr>\n",
       "  </thead>\n",
       "  <tbody>\n",
       "    <tr>\n",
       "      <th>mechant_text</th>\n",
       "      <td>1.000000</td>\n",
       "      <td>0.997391</td>\n",
       "      <td>-0.224249</td>\n",
       "    </tr>\n",
       "    <tr>\n",
       "      <th>hamlet_text</th>\n",
       "      <td>0.997391</td>\n",
       "      <td>1.000000</td>\n",
       "      <td>-0.212006</td>\n",
       "    </tr>\n",
       "    <tr>\n",
       "      <th>cipher_text</th>\n",
       "      <td>-0.224249</td>\n",
       "      <td>-0.212006</td>\n",
       "      <td>1.000000</td>\n",
       "    </tr>\n",
       "  </tbody>\n",
       "</table>\n",
       "</div>"
      ],
      "text/plain": [
       "              mechant_text  hamlet_text  cipher_text\n",
       "mechant_text      1.000000     0.997391    -0.224249\n",
       "hamlet_text       0.997391     1.000000    -0.212006\n",
       "cipher_text      -0.224249    -0.212006     1.000000"
      ]
     },
     "execution_count": 101,
     "metadata": {},
     "output_type": "execute_result"
    }
   ],
   "source": [
    "df_letters.corr()"
   ]
  },
  {
   "cell_type": "code",
   "execution_count": 102,
   "id": "9f202f84",
   "metadata": {},
   "outputs": [
    {
     "data": {
      "text/html": [
       "<div>\n",
       "<style scoped>\n",
       "    .dataframe tbody tr th:only-of-type {\n",
       "        vertical-align: middle;\n",
       "    }\n",
       "\n",
       "    .dataframe tbody tr th {\n",
       "        vertical-align: top;\n",
       "    }\n",
       "\n",
       "    .dataframe thead th {\n",
       "        text-align: right;\n",
       "    }\n",
       "</style>\n",
       "<table border=\"1\" class=\"dataframe\">\n",
       "  <thead>\n",
       "    <tr style=\"text-align: right;\">\n",
       "      <th>letters</th>\n",
       "      <th>a</th>\n",
       "      <th>b</th>\n",
       "      <th>c</th>\n",
       "      <th>d</th>\n",
       "      <th>e</th>\n",
       "      <th>f</th>\n",
       "      <th>g</th>\n",
       "      <th>h</th>\n",
       "      <th>i</th>\n",
       "      <th>j</th>\n",
       "      <th>...</th>\n",
       "      <th>q</th>\n",
       "      <th>r</th>\n",
       "      <th>s</th>\n",
       "      <th>t</th>\n",
       "      <th>u</th>\n",
       "      <th>v</th>\n",
       "      <th>w</th>\n",
       "      <th>x</th>\n",
       "      <th>y</th>\n",
       "      <th>z</th>\n",
       "    </tr>\n",
       "  </thead>\n",
       "  <tbody>\n",
       "    <tr>\n",
       "      <th>mechant_text</th>\n",
       "      <td>7338</td>\n",
       "      <td>1541</td>\n",
       "      <td>2078</td>\n",
       "      <td>3405</td>\n",
       "      <td>10786</td>\n",
       "      <td>1980</td>\n",
       "      <td>1588</td>\n",
       "      <td>5766</td>\n",
       "      <td>6388</td>\n",
       "      <td>231</td>\n",
       "      <td>...</td>\n",
       "      <td>56</td>\n",
       "      <td>5406</td>\n",
       "      <td>5972</td>\n",
       "      <td>8056</td>\n",
       "      <td>2934</td>\n",
       "      <td>916</td>\n",
       "      <td>2177</td>\n",
       "      <td>109</td>\n",
       "      <td>2451</td>\n",
       "      <td>116</td>\n",
       "    </tr>\n",
       "    <tr>\n",
       "      <th>hamlet_text</th>\n",
       "      <td>10288</td>\n",
       "      <td>1823</td>\n",
       "      <td>2798</td>\n",
       "      <td>5135</td>\n",
       "      <td>15673</td>\n",
       "      <td>2736</td>\n",
       "      <td>2427</td>\n",
       "      <td>8702</td>\n",
       "      <td>8885</td>\n",
       "      <td>111</td>\n",
       "      <td>...</td>\n",
       "      <td>219</td>\n",
       "      <td>7940</td>\n",
       "      <td>8667</td>\n",
       "      <td>12488</td>\n",
       "      <td>4461</td>\n",
       "      <td>1232</td>\n",
       "      <td>3128</td>\n",
       "      <td>174</td>\n",
       "      <td>3210</td>\n",
       "      <td>125</td>\n",
       "    </tr>\n",
       "    <tr>\n",
       "      <th>cipher_text</th>\n",
       "      <td>29</td>\n",
       "      <td>83</td>\n",
       "      <td>96</td>\n",
       "      <td>6</td>\n",
       "      <td>15</td>\n",
       "      <td>18</td>\n",
       "      <td>49</td>\n",
       "      <td>23</td>\n",
       "      <td>26</td>\n",
       "      <td>123</td>\n",
       "      <td>...</td>\n",
       "      <td>12</td>\n",
       "      <td>87</td>\n",
       "      <td>1</td>\n",
       "      <td>126</td>\n",
       "      <td>25</td>\n",
       "      <td>64</td>\n",
       "      <td>38</td>\n",
       "      <td>161</td>\n",
       "      <td>30</td>\n",
       "      <td>1</td>\n",
       "    </tr>\n",
       "  </tbody>\n",
       "</table>\n",
       "<p>3 rows × 26 columns</p>\n",
       "</div>"
      ],
      "text/plain": [
       "letters           a     b     c     d      e     f     g     h     i    j  \\\n",
       "mechant_text   7338  1541  2078  3405  10786  1980  1588  5766  6388  231   \n",
       "hamlet_text   10288  1823  2798  5135  15673  2736  2427  8702  8885  111   \n",
       "cipher_text      29    83    96     6     15    18    49    23    26  123   \n",
       "\n",
       "letters       ...    q     r     s      t     u     v     w    x     y    z  \n",
       "mechant_text  ...   56  5406  5972   8056  2934   916  2177  109  2451  116  \n",
       "hamlet_text   ...  219  7940  8667  12488  4461  1232  3128  174  3210  125  \n",
       "cipher_text   ...   12    87     1    126    25    64    38  161    30    1  \n",
       "\n",
       "[3 rows x 26 columns]"
      ]
     },
     "execution_count": 102,
     "metadata": {},
     "output_type": "execute_result"
    }
   ],
   "source": [
    "df_letter_trans\n"
   ]
  },
  {
   "cell_type": "code",
   "execution_count": null,
   "id": "957547dd",
   "metadata": {},
   "outputs": [],
   "source": [
    "sorted(ciph)"
   ]
  },
  {
   "cell_type": "markdown",
   "id": "3c9f3a97",
   "metadata": {},
   "source": [
    "## sorting out our cipher letters and finding patterns "
   ]
  },
  {
   "cell_type": "code",
   "execution_count": 34,
   "id": "4c2031a4",
   "metadata": {},
   "outputs": [],
   "source": [
    "cipher_sorted_one_let = sorted(ciper_dict[0].items(),key = lambda item: item[1])[::-1]"
   ]
  },
  {
   "cell_type": "code",
   "execution_count": 35,
   "id": "73212c4a",
   "metadata": {},
   "outputs": [],
   "source": [
    "ham_sorted_one_let = sorted(hamlet_dicts[0].items(),key = lambda item: item[1])[::-1]"
   ]
  },
  {
   "cell_type": "code",
   "execution_count": 39,
   "id": "f5746dfa",
   "metadata": {},
   "outputs": [],
   "source": [
    "dict_map_one_let  = {}\n",
    "for i in range(len(cipher_sorted_one_let)):\n",
    "    dict_map_one_let[cipher_sorted_one_let[i][0]] = ham_sorted_one_let[i][0]"
   ]
  },
  {
   "cell_type": "code",
   "execution_count": 25,
   "id": "745c928e",
   "metadata": {},
   "outputs": [],
   "source": [
    "def letter_map(cipher_dict,reference_dict):\n",
    "    \"\"\"\n",
    "    return the letters mapping of one letter sorted in deseceding order first\n",
    "    \"\"\"\n",
    "    letter_map = {}\n",
    "    cipher_sorted_one_let = sorted(cipher_dict.items(),key = lambda item: item[1])[::-1]\n",
    "    ref_sorted_one_let = sorted(reference_dict.items(),key = lambda item: item[1])[::-1]\n",
    "    \n",
    "    for i in range(len(cipher_sorted_one_let)):\n",
    "        letter_map[cipher_sorted_one_let[i][0]] = ref_sorted_one_let[i][0]\n",
    "    # return the one letter mapping\n",
    "    return letter_map"
   ]
  },
  {
   "cell_type": "code",
   "execution_count": 20,
   "id": "883614c0",
   "metadata": {},
   "outputs": [
    {
     "data": {
      "text/plain": [
       "[('x', 161),\n",
       " ('t', 126),\n",
       " ('j', 123),\n",
       " ('m', 114),\n",
       " ('p', 107),\n",
       " ('c', 96),\n",
       " ('r', 87),\n",
       " ('b', 83),\n",
       " ('n', 68),\n",
       " ('v', 64),\n",
       " ('g', 49),\n",
       " ('w', 38),\n",
       " ('y', 30),\n",
       " ('a', 29),\n",
       " ('l', 27),\n",
       " ('i', 26),\n",
       " ('u', 25),\n",
       " ('h', 23),\n",
       " ('f', 18),\n",
       " ('e', 15),\n",
       " ('q', 12),\n",
       " ('o', 6),\n",
       " ('d', 6),\n",
       " ('k', 3),\n",
       " ('z', 1),\n",
       " ('s', 1)]"
      ]
     },
     "execution_count": 20,
     "metadata": {},
     "output_type": "execute_result"
    }
   ],
   "source": [
    "sorted(ciper_dict[0].items(),key = lambda item: item[1])[::-1]"
   ]
  },
  {
   "cell_type": "code",
   "execution_count": 28,
   "id": "fe7c9d3b",
   "metadata": {},
   "outputs": [
    {
     "data": {
      "text/plain": [
       "[('e', 15673),\n",
       " ('t', 12488),\n",
       " ('o', 11478),\n",
       " ('a', 10288),\n",
       " ('i', 8885),\n",
       " ('h', 8702),\n",
       " ('n', 8692),\n",
       " ('s', 8667),\n",
       " ('r', 7940),\n",
       " ('l', 6371),\n",
       " ('d', 5135),\n",
       " ('u', 4461),\n",
       " ('m', 4280),\n",
       " ('y', 3210),\n",
       " ('w', 3128),\n",
       " ('c', 2798),\n",
       " ('f', 2736),\n",
       " ('g', 2427),\n",
       " ('p', 2015),\n",
       " ('b', 1823),\n",
       " ('k', 1271),\n",
       " ('v', 1232),\n",
       " ('q', 219),\n",
       " ('x', 174),\n",
       " ('z', 125),\n",
       " ('j', 111)]"
      ]
     },
     "execution_count": 28,
     "metadata": {},
     "output_type": "execute_result"
    }
   ],
   "source": [
    "sorted(hamlet_dicts[0].items(),key = lambda item: item[1])[::-1]"
   ]
  },
  {
   "cell_type": "code",
   "execution_count": 26,
   "id": "68a5a9ae",
   "metadata": {},
   "outputs": [],
   "source": [
    "ham_map_ref = letter_map(ciper_dict[0],hamlet_dicts[0])"
   ]
  },
  {
   "cell_type": "code",
   "execution_count": 30,
   "id": "239a8da4",
   "metadata": {},
   "outputs": [
    {
     "data": {
      "text/plain": [
       "[('a', 'y'),\n",
       " ('b', 's'),\n",
       " ('c', 'h'),\n",
       " ('d', 'q'),\n",
       " ('e', 'b'),\n",
       " ('f', 'p'),\n",
       " ('g', 'd'),\n",
       " ('h', 'g'),\n",
       " ('i', 'c'),\n",
       " ('j', 'o'),\n",
       " ('k', 'x'),\n",
       " ('l', 'w'),\n",
       " ('m', 'a'),\n",
       " ('n', 'r'),\n",
       " ('o', 'v'),\n",
       " ('p', 'i'),\n",
       " ('q', 'k'),\n",
       " ('r', 'n'),\n",
       " ('s', 'j'),\n",
       " ('t', 't'),\n",
       " ('u', 'f'),\n",
       " ('v', 'l'),\n",
       " ('w', 'u'),\n",
       " ('x', 'e'),\n",
       " ('y', 'm'),\n",
       " ('z', 'z')]"
      ]
     },
     "execution_count": 30,
     "metadata": {},
     "output_type": "execute_result"
    }
   ],
   "source": [
    "sorted(ham_map_ref.items())"
   ]
  },
  {
   "cell_type": "code",
   "execution_count": 40,
   "id": "252ee802",
   "metadata": {},
   "outputs": [
    {
     "ename": "NameError",
     "evalue": "name 'letter_map' is not defined",
     "output_type": "error",
     "traceback": [
      "\u001b[1;31m---------------------------------------------------------------------------\u001b[0m",
      "\u001b[1;31mNameError\u001b[0m                                 Traceback (most recent call last)",
      "Input \u001b[1;32mIn [40]\u001b[0m, in \u001b[0;36m<cell line: 1>\u001b[1;34m()\u001b[0m\n\u001b[1;32m----> 1\u001b[0m mer_map_ref \u001b[38;5;241m=\u001b[39m \u001b[43mletter_map\u001b[49m(ciper_dict[\u001b[38;5;241m0\u001b[39m],merchant_dicts[\u001b[38;5;241m0\u001b[39m])\n",
      "\u001b[1;31mNameError\u001b[0m: name 'letter_map' is not defined"
     ]
    }
   ],
   "source": [
    "mer_map_ref = letter_map(ciper_dict[0],merchant_dicts[0])"
   ]
  },
  {
   "cell_type": "markdown",
   "id": "829b10eb",
   "metadata": {},
   "source": [
    "### this function is for mapping all the letters with a certain text"
   ]
  },
  {
   "cell_type": "code",
   "execution_count": 44,
   "id": "31e177fe",
   "metadata": {},
   "outputs": [],
   "source": [
    "\n",
    "def derypt_cipher_text(encypted_text, dict_map):\n",
    "    decrypt_string = \"\"\n",
    "    for i in encypted_text:\n",
    "        if i.isalpha():\n",
    "            decrypt_string+= dict_map[i]\n",
    "        else:\n",
    "            decrypt_string+= i\n",
    "    return decrypt_string"
   ]
  },
  {
   "cell_type": "code",
   "execution_count": 34,
   "id": "b9ddc72a",
   "metadata": {},
   "outputs": [
    {
     "data": {
      "text/plain": [
       "\"bt jpx rmlx pcuv amlx icvjp ibtwxvr ci m lmt'r pmtn, mtn yvcjx cdxv mwmbtrj jpx amtngxrjbah uqct jpx qgmrjxv ci jpx ymgg ci jpx hbtw'r qmgmax; mtn jpx hbtw rmy jpx qmvj ci jpx pmtn jpmj yvcjx. jpxt jpx hbtw'r acutjxtmtax ymr apmtwxn, mtn pbr jpcuwpjr jvcufgxn pbl, rc jpmj jpx scbtjr ci pbr gcbtr yxvx gccrxn, mtn pbr htxxr rlcjx ctx mwmbtrj mtcjpxv. jpx hbtw avbxn mgcun jc fvbtw bt jpx mrjvcgcwxvr, jpx apmgnxmtr, mtn jpx rccjprmexvr. mtn jpx hbtw rqmhx, mtn rmbn jc jpx ybrx lxt ci fmfegct, ypcrcxdxv rpmgg vxmn jpbr yvbjbtw, mtn rpcy lx jpx btjxvqvxjmjbct jpxvxci, rpmgg fx agcjpxn ybjp ramvgxj, mtn pmdx m apmbt ci wcgn mfcuj pbr txah, mtn rpmgg fx jpx jpbvn vugxv bt jpx hbtwncl. jpxt amlx bt mgg jpx hbtw'r ybrx lxt; fuj jpxe acugn tcj vxmn jpx yvbjbtw, tcv lmhx htcyt jc jpx hbtw jpx btjxvqvxjmjbct jpxvxci. jpxt ymr hbtw fxgrpmoomv wvxmjge jvcufgxn, mtn pbr acutjxtmtax ymr apmtwxn bt pbl, mtn pbr gcvnr yxvx mrjctbrpxn. tcy jpx kuxxt, fe vxmrct ci jpx ycvnr ci jpx hbtw mtn pbr gcvnr, amlx btjc jpx fmtkuxj pcurx; mtn jpx kuxxt rqmhx mtn rmbn, c hbtw, gbdx icvxdxv; gxj tcj jpe jpcuwpjr jvcufgx jpxx, tcv gxj jpe acutjxtmtax fx apmtwxn; jpxvx br m lmt bt jpe hbtwncl, bt ypcl br jpx rqbvbj ci jpx pcge wcnr; mtn bt jpx nmer ci jpe ybrncl ci jpx wcnr, ymr icutn bt pbl; ypcl jpx hbtw txfuapmntxoomv jpe imjpxv, jpx hbtw, b rme, jpe imjpxv, lmnx lmrjxv ci jpx lmwbabmtr, mrjvcgcwxvr, apmgnxmtr, mtn rccjprmexvr; icvmrluap mr mt xzaxggxtj rqbvbj, mtn htcygxnwx, mtn utnxvrjmtnbtw, btjxvqvxjbtw ci nvxmlr, mtn rpcybtw ci pmvn rxtjxtaxr, mtn nbrrcgdbtw ci ncufjr, yxvx icutn bt jpx rmlx nmtbxg, ypcl jpx hbtw tmlxn fxgjxrpmoomv; tcy gxj nmtbxg fx amggxn, mtn px ybgg rpcy jpx btjxvqvxjmjbct.\""
      ]
     },
     "execution_count": 34,
     "metadata": {},
     "output_type": "execute_result"
    }
   ],
   "source": [
    "cipher_text"
   ]
  },
  {
   "cell_type": "code",
   "execution_count": null,
   "id": "80d3cd8e",
   "metadata": {},
   "outputs": [],
   "source": [
    "ham"
   ]
  },
  {
   "cell_type": "markdown",
   "id": "604e4336",
   "metadata": {},
   "source": [
    "## printing the freqnecy analysis"
   ]
  },
  {
   "cell_type": "code",
   "execution_count": 35,
   "id": "c66ec87f",
   "metadata": {},
   "outputs": [],
   "source": [
    "## chipertext freq analysis \n",
    "def print_freq_analysis(text_dict,print_limit = 30):\n",
    "    for i,j in enumerate(text_dict):\n",
    "        print(f\"{i+1} letter/s\")\n",
    "        sorted_dict = sorted(j.items(),key = lambda item: item[1])[::-1]\n",
    "        print(sorted_dict[:print_limit])"
   ]
  },
  {
   "cell_type": "markdown",
   "id": "51411fbd",
   "metadata": {},
   "source": [
    "## chiper text freq analysis"
   ]
  },
  {
   "cell_type": "code",
   "execution_count": 36,
   "id": "8832e8d7",
   "metadata": {},
   "outputs": [
    {
     "name": "stdout",
     "output_type": "stream",
     "text": [
      "1 letter/s\n",
      "[('x', 161), ('t', 126), ('j', 123), ('m', 114), ('p', 107), ('c', 96), ('r', 87), ('b', 83), ('n', 68), ('v', 64), ('g', 49), ('w', 38), ('y', 30), ('a', 29), ('l', 27), ('i', 26), ('u', 25), ('h', 23), ('f', 18), ('e', 15), ('q', 12), ('o', 6), ('d', 6), ('k', 3), ('z', 1), ('s', 1)]\n",
      "2 letter/s\n",
      "[('jp', 66), ('px', 52), ('bt', 43), ('mt', 42), ('tn', 29), ('tw', 26), ('xv', 25), ('pm', 18), ('ci', 18), ('vx', 16), ('cu', 16), ('hb', 15), ('br', 15), ('jx', 14), ('xt', 13), ('xn', 12), ('pc', 12), ('pb', 12), ('mr', 12), ('gx', 12), ('tj', 11), ('mg', 10), ('xj', 9), ('tc', 9), ('rp', 9), ('rj', 9), ('lx', 9), ('gc', 9), ('cj', 9), ('rm', 8)]\n",
      "3 letter/s\n",
      "[('jpx', 50), ('mtn', 26), ('btw', 23), ('hbt', 15), ('tjx', 8), ('pbr', 8), ('apm', 7), ('xvx', 6), ('xvr', 6), ('pxv', 6), ('mlx', 6), ('mgg', 6), ('jxv', 6), ('jpe', 6), ('btj', 6), ('vxm', 5), ('rpm', 5), ('pmg', 5), ('mrj', 5), ('jvc', 5), ('cut', 5), ('ymr', 4), ('xvq', 4), ('vxj', 4), ('vqv', 4), ('vbj', 4), ('twx', 4), ('tcy', 4), ('tax', 4), ('qvx', 4)]\n"
     ]
    }
   ],
   "source": [
    "print_freq_analysis(ciper_dict)"
   ]
  },
  {
   "cell_type": "markdown",
   "id": "b344fcf5",
   "metadata": {},
   "source": [
    "## hamlet text freq analysis"
   ]
  },
  {
   "cell_type": "code",
   "execution_count": 37,
   "id": "5c3c60df",
   "metadata": {},
   "outputs": [
    {
     "name": "stdout",
     "output_type": "stream",
     "text": [
      "1 letter/s\n",
      "[('e', 15673), ('t', 12488), ('o', 11478), ('a', 10288), ('i', 8885), ('h', 8702), ('n', 8692), ('s', 8667), ('r', 7940), ('l', 6371), ('d', 5135), ('u', 4461), ('m', 4280), ('y', 3210), ('w', 3128), ('c', 2798), ('f', 2736), ('g', 2427), ('p', 2015), ('b', 1823), ('k', 1271), ('v', 1232), ('q', 219), ('x', 174), ('z', 125), ('j', 111)]\n",
      "2 letter/s\n",
      "[('th', 3984), ('he', 2962), ('an', 2015), ('er', 1989), ('ou', 1962), ('in', 1961), ('ha', 1871), ('nd', 1554), ('at', 1520), ('or', 1503), ('en', 1495), ('re', 1435), ('is', 1335), ('hi', 1243), ('le', 1205), ('on', 1199), ('it', 1175), ('st', 1134), ('ar', 1087), ('es', 1075), ('ll', 1038), ('to', 1034), ('ea', 1006), ('et', 961), ('se', 960), ('no', 942), ('ho', 933), ('ve', 914), ('me', 901), ('ng', 895)]\n",
      "3 letter/s\n",
      "[('the', 1935), ('and', 1162), ('you', 856), ('hat', 697), ('ing', 679), ('her', 649), ('his', 606), ('let', 601), ('our', 523), ('thi', 502), ('ham', 492), ('tha', 487), ('mle', 474), ('aml', 474), ('for', 425), ('not', 405), ('ith', 389), ('wit', 353), ('ere', 351), ('ent', 343), ('ave', 338), ('all', 338), ('ter', 327), ('tio', 317), ('ear', 308), ('ord', 303), ('hou', 280), ('ill', 278), ('but', 275), ('ell', 263)]\n"
     ]
    }
   ],
   "source": [
    "print_freq_analysis(hamlet_dicts)"
   ]
  },
  {
   "cell_type": "markdown",
   "id": "7d88b554",
   "metadata": {},
   "source": [
    "## Merchant text freq analysis "
   ]
  },
  {
   "cell_type": "code",
   "execution_count": 39,
   "id": "0801d697",
   "metadata": {},
   "outputs": [
    {
     "name": "stdout",
     "output_type": "stream",
     "text": [
      "1 letter/s\n",
      "[('e', 10786), ('t', 8056), ('o', 8046), ('a', 7338), ('i', 6388), ('n', 6146), ('s', 5972), ('h', 5766), ('r', 5406), ('l', 3930), ('d', 3405), ('u', 2934), ('m', 2561), ('y', 2451), ('w', 2177), ('c', 2078), ('f', 1980), ('g', 1588), ('b', 1541), ('p', 1256), ('v', 916), ('k', 757), ('j', 231), ('z', 116), ('x', 109), ('q', 56), ('æ', 2), ('œ', 1)]\n",
      "2 letter/s\n",
      "[('th', 2778), ('he', 2029), ('an', 1717), ('er', 1405), ('ou', 1368), ('in', 1230), ('re', 1167), ('nd', 1110), ('or', 1109), ('ha', 1074), ('en', 955), ('at', 910), ('is', 890), ('on', 861), ('to', 782), ('me', 741), ('ar', 732), ('es', 731), ('it', 726), ('ve', 720), ('no', 717), ('hi', 713), ('yo', 684), ('ll', 680), ('st', 650), ('ea', 630), ('se', 620), ('le', 602), ('ho', 597), ('as', 561)]\n",
      "3 letter/s\n",
      "[('the', 1368), ('and', 753), ('you', 677), ('her', 450), ('hat', 439), ('ing', 381), ('for', 377), ('tha', 358), ('our', 322), ('his', 312), ('ere', 308), ('nio', 282), ('not', 281), ('thi', 274), ('tia', 270), ('hou', 270), ('ith', 260), ('ort', 249), ('wit', 238), ('ear', 238), ('ave', 236), ('all', 235), ('ter', 230), ('ore', 219), ('ent', 207), ('nce', 203), ('ssa', 198), ('but', 185), ('ill', 180), ('ess', 180)]\n"
     ]
    }
   ],
   "source": [
    "print_freq_analysis(merchant_dicts)"
   ]
  },
  {
   "cell_type": "code",
   "execution_count": null,
   "id": "301c9c57",
   "metadata": {},
   "outputs": [],
   "source": []
  }
 ],
 "metadata": {
  "kernelspec": {
   "display_name": "Python 3 (ipykernel)",
   "language": "python",
   "name": "python3"
  },
  "language_info": {
   "codemirror_mode": {
    "name": "ipython",
    "version": 3
   },
   "file_extension": ".py",
   "mimetype": "text/x-python",
   "name": "python",
   "nbconvert_exporter": "python",
   "pygments_lexer": "ipython3",
   "version": "3.9.12"
  }
 },
 "nbformat": 4,
 "nbformat_minor": 5
}
